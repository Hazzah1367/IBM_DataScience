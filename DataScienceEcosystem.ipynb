{
 "cells": [
  {
   "cell_type": "markdown",
   "id": "b7ec819c-5d5b-4c2f-a055-99ae06b1571f",
   "metadata": {},
   "source": [
    "# Data Science Tools and Ecosystem"
   ]
  },
  {
   "cell_type": "markdown",
   "id": "018e8fa0-f865-487b-89d4-c76e51dabd82",
   "metadata": {},
   "source": [
    "In this notebook, Data Science Tools and Ecosystems are summarised"
   ]
  },
  {
   "cell_type": "markdown",
   "id": "bdda69c2-f416-4cc4-8079-337683478372",
   "metadata": {},
   "source": [
    "Some of the popular languages that Data Scientists use are:\n",
    "1. Python\n",
    "2. R\n",
    "3. SQL"
   ]
  },
  {
   "cell_type": "markdown",
   "id": "2198abf7-4a86-4746-b165-37385c0e263b",
   "metadata": {},
   "source": [
    "Some of the commonly used libraries used by Data Scientists include:\n",
    "\n",
    "1. Numpy\n",
    "2. Pandas\n",
    "3. Scikit-learn"
   ]
  },
  {
   "cell_type": "markdown",
   "id": "ad6dd8da-4670-4fab-a726-d2d9609f71ce",
   "metadata": {},
   "source": [
    "| Data Science Tools |\n",
    "| --------------------- |\n",
    "| Jupyter Notebooks |\n",
    "| RStudio |\n",
    "| Visual Studio Code |"
   ]
  },
  {
   "cell_type": "markdown",
   "id": "3912202b-d5fc-48c9-bb21-da8d997ca637",
   "metadata": {},
   "source": [
    "### Below are a few examples of evaluating arithmetic expressions in Python"
   ]
  },
  {
   "cell_type": "code",
   "execution_count": 4,
   "id": "74492b6f-1d43-4a11-827d-2901671897bf",
   "metadata": {},
   "outputs": [
    {
     "data": {
      "text/plain": [
       "17"
      ]
     },
     "execution_count": 4,
     "metadata": {},
     "output_type": "execute_result"
    }
   ],
   "source": [
    "# This is a simple arithmetic expression to multiply then add integers\n",
    "(3*4) + 5"
   ]
  },
  {
   "cell_type": "code",
   "execution_count": 7,
   "id": "412bc192-aa5a-449a-857f-2af90da41c84",
   "metadata": {},
   "outputs": [
    {
     "data": {
      "text/plain": [
       "3.3333333333333335"
      ]
     },
     "execution_count": 7,
     "metadata": {},
     "output_type": "execute_result"
    }
   ],
   "source": [
    "# This will convert 200 minutes to hours by diving by 60\n",
    "200/60"
   ]
  },
  {
   "cell_type": "markdown",
   "id": "ae82a996-7e5a-43ac-923f-9c4aebd40a25",
   "metadata": {},
   "source": [
    "**Objectives**\n",
    "- List popular languages for Data Science\n",
    "- Show Examples of arithmetic expressions with Python\n",
    "- List commonly used libraries in Data Science"
   ]
  },
  {
   "cell_type": "markdown",
   "id": "d5548f4e-d81c-4ff2-9694-643b36172211",
   "metadata": {},
   "source": [
    "## Author\n",
    "Hamzah Hussain"
   ]
  },
  {
   "cell_type": "code",
   "execution_count": null,
   "id": "96affd9a-9d61-4740-9a3c-f01cf447f1fc",
   "metadata": {},
   "outputs": [],
   "source": []
  }
 ],
 "metadata": {
  "kernelspec": {
   "display_name": "Python 3 (ipykernel)",
   "language": "python",
   "name": "python3"
  },
  "language_info": {
   "codemirror_mode": {
    "name": "ipython",
    "version": 3
   },
   "file_extension": ".py",
   "mimetype": "text/x-python",
   "name": "python",
   "nbconvert_exporter": "python",
   "pygments_lexer": "ipython3",
   "version": "3.12.2"
  }
 },
 "nbformat": 4,
 "nbformat_minor": 5
}
